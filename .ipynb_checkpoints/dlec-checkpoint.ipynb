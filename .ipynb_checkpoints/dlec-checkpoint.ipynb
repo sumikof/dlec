{
 "cells": [
  {
   "cell_type": "code",
   "execution_count": 22,
   "metadata": {},
   "outputs": [],
   "source": [
    "from scipy.stats import stats\n",
    "\n",
    "import dl\n",
    "from dl import util\n",
    "from dl.oanda_keras import oanda_keras\n",
    "from oanda_api import oanda_rest_api\n",
    "from dl import oanda_keras as odl"
   ]
  },
  {
   "cell_type": "code",
   "execution_count": 2,
   "metadata": {},
   "outputs": [],
   "source": [
    "from main import *"
   ]
  },
  {
   "cell_type": "code",
   "execution_count": 3,
   "metadata": {},
   "outputs": [],
   "source": [
    "df_org = oanda_dataframe('USD_JPY_M1.csv')"
   ]
  },
  {
   "cell_type": "code",
   "execution_count": 4,
   "metadata": {},
   "outputs": [],
   "source": [
    "in_out_neurons = 1\n",
    "hidden_neurons = 300\n",
    "batch_size=1000\n",
    "epochs=1\n",
    "validation_split=0.05"
   ]
  },
  {
   "cell_type": "code",
   "execution_count": 5,
   "metadata": {},
   "outputs": [],
   "source": [
    "length_of_sequences = 5"
   ]
  },
  {
   "cell_type": "code",
   "execution_count": 6,
   "metadata": {},
   "outputs": [],
   "source": [
    "from keras.models import Sequential\n",
    "from keras.layers import Dense, Activation\n",
    "from keras.layers.recurrent import LSTM\n",
    "model = Sequential()\n",
    "\n",
    "model.add(LSTM(hidden_neurons, batch_input_shape=(None, length_of_sequences, in_out_neurons), return_sequences=False))\n",
    "model.add(Dense(in_out_neurons))\n",
    "model.add(Activation('linear'))\n",
    "\n",
    "model.compile(loss=\"mean_squared_error\", optimizer=\"adam\")"
   ]
  },
  {
   "cell_type": "code",
   "execution_count": 7,
   "metadata": {},
   "outputs": [],
   "source": [
    "df = df_org"
   ]
  },
  {
   "cell_type": "code",
   "execution_count": 8,
   "metadata": {},
   "outputs": [],
   "source": [
    "FEATURE_VALUE = ['close']"
   ]
  },
  {
   "cell_type": "code",
   "execution_count": 44,
   "metadata": {},
   "outputs": [],
   "source": [
    "df[FEATURE_VALUE] = df[FEATURE_VALUE].rolling(window=3).mean()"
   ]
  },
  {
   "cell_type": "code",
   "execution_count": 45,
   "metadata": {},
   "outputs": [],
   "source": [
    "df = df[df['date'].dt.minute % 3 == 0]"
   ]
  },
  {
   "cell_type": "code",
   "execution_count": 46,
   "metadata": {},
   "outputs": [],
   "source": [
    "df = df.drop('date', axis=1)[FEATURE_VALUE]"
   ]
  },
  {
   "cell_type": "code",
   "execution_count": 47,
   "metadata": {},
   "outputs": [],
   "source": [
    "df = df.dropna()"
   ]
  },
  {
   "cell_type": "code",
   "execution_count": 48,
   "metadata": {},
   "outputs": [],
   "source": [
    "df = util.standard_0_1(df)"
   ]
  },
  {
   "cell_type": "code",
   "execution_count": 49,
   "metadata": {},
   "outputs": [],
   "source": [
    "(X_train, y_train), (X_test, y_test) = util.train_test_split(df,test_size=0.1, n_prev=length_of_sequences)"
   ]
  },
  {
   "cell_type": "code",
   "execution_count": 59,
   "metadata": {},
   "outputs": [
    {
     "name": "stderr",
     "output_type": "stream",
     "text": [
      "<ipython-input-59-04922fee8c95>:2: FutureWarning: The Panel class is removed from pandas. Accessing it from the top-level namespace will also be removed in the next version\n",
      "  xtrain = pd.Panel(X_train)\n"
     ]
    },
    {
     "ename": "TypeError",
     "evalue": "Panel() takes no arguments",
     "output_type": "error",
     "traceback": [
      "\u001b[0;31m---------------------------------------------------------------------------\u001b[0m",
      "\u001b[0;31mTypeError\u001b[0m                                 Traceback (most recent call last)",
      "\u001b[0;32m<ipython-input-59-04922fee8c95>\u001b[0m in \u001b[0;36m<module>\u001b[0;34m\u001b[0m\n\u001b[1;32m      1\u001b[0m \u001b[0;32mimport\u001b[0m \u001b[0mpandas\u001b[0m \u001b[0;32mas\u001b[0m \u001b[0mpd\u001b[0m\u001b[0;34m\u001b[0m\u001b[0;34m\u001b[0m\u001b[0m\n\u001b[0;32m----> 2\u001b[0;31m \u001b[0mxtrain\u001b[0m \u001b[0;34m=\u001b[0m \u001b[0mpd\u001b[0m\u001b[0;34m.\u001b[0m\u001b[0mPanel\u001b[0m\u001b[0;34m(\u001b[0m\u001b[0mX_train\u001b[0m\u001b[0;34m)\u001b[0m\u001b[0;34m\u001b[0m\u001b[0;34m\u001b[0m\u001b[0m\n\u001b[0m",
      "\u001b[0;31mTypeError\u001b[0m: Panel() takes no arguments"
     ]
    }
   ],
   "source": [
    "print(X_train.del"
   ]
  },
  {
   "cell_type": "code",
   "execution_count": 62,
   "metadata": {},
   "outputs": [
    {
     "name": "stdout",
     "output_type": "stream",
     "text": [
      "[[[0.34723381]\n",
      "  [0.34718083]\n",
      "  [0.34716096]\n",
      "  [0.34708812]\n",
      "  [0.34706825]]\n",
      "\n",
      " [[0.34718083]\n",
      "  [0.34716096]\n",
      "  [0.34708812]\n",
      "  [0.34706825]\n",
      "  [0.34713448]]\n",
      "\n",
      " [[0.34716096]\n",
      "  [0.34708812]\n",
      "  [0.34706825]\n",
      "  [0.34713448]\n",
      "  [0.34710136]]]\n"
     ]
    }
   ],
   "source": [
    "print(X_train[0:3])"
   ]
  },
  {
   "cell_type": "code",
   "execution_count": null,
   "metadata": {},
   "outputs": [
    {
     "name": "stdout",
     "output_type": "stream",
     "text": [
      "Train on 3031194 samples, validate on 159537 samples\n",
      "Epoch 1/2\n",
      " 299600/3031194 [=>............................] - ETA: 43:37 - loss: 5.6841e-07"
     ]
    },
    {
     "name": "stderr",
     "output_type": "stream",
     "text": [
      "IOPub message rate exceeded.\n",
      "The notebook server will temporarily stop sending output\n",
      "to the client in order to avoid crashing it.\n",
      "To change this limit, set the config variable\n",
      "`--NotebookApp.iopub_msg_rate_limit`.\n",
      "\n",
      "Current values:\n",
      "NotebookApp.iopub_msg_rate_limit=1000.0 (msgs/sec)\n",
      "NotebookApp.rate_limit_window=3.0 (secs)\n",
      "\n"
     ]
    },
    {
     "name": "stdout",
     "output_type": "stream",
     "text": [
      "1304400/3031194 [===========>..................] - ETA: 27:38 - loss: 6.4785e-07"
     ]
    },
    {
     "name": "stderr",
     "output_type": "stream",
     "text": [
      "IOPub message rate exceeded.\n",
      "The notebook server will temporarily stop sending output\n",
      "to the client in order to avoid crashing it.\n",
      "To change this limit, set the config variable\n",
      "`--NotebookApp.iopub_msg_rate_limit`.\n",
      "\n",
      "Current values:\n",
      "NotebookApp.iopub_msg_rate_limit=1000.0 (msgs/sec)\n",
      "NotebookApp.rate_limit_window=3.0 (secs)\n",
      "\n"
     ]
    },
    {
     "name": "stdout",
     "output_type": "stream",
     "text": [
      "2016600/3031194 [==================>...........] - ETA: 16:14 - loss: 6.2074e-07"
     ]
    },
    {
     "name": "stderr",
     "output_type": "stream",
     "text": [
      "IOPub message rate exceeded.\n",
      "The notebook server will temporarily stop sending output\n",
      "to the client in order to avoid crashing it.\n",
      "To change this limit, set the config variable\n",
      "`--NotebookApp.iopub_msg_rate_limit`.\n",
      "\n",
      "Current values:\n",
      "NotebookApp.iopub_msg_rate_limit=1000.0 (msgs/sec)\n",
      "NotebookApp.rate_limit_window=3.0 (secs)\n",
      "\n"
     ]
    },
    {
     "name": "stdout",
     "output_type": "stream",
     "text": [
      "3031194/3031194 [==============================] - 2955s 975us/step - loss: 5.7960e-07 - val_loss: 1.1183e-08\n",
      "Epoch 2/2\n",
      "  41700/3031194 [..............................] - ETA: 47:54 - loss: 1.8213e-08"
     ]
    },
    {
     "name": "stderr",
     "output_type": "stream",
     "text": [
      "IOPub message rate exceeded.\n",
      "The notebook server will temporarily stop sending output\n",
      "to the client in order to avoid crashing it.\n",
      "To change this limit, set the config variable\n",
      "`--NotebookApp.iopub_msg_rate_limit`.\n",
      "\n",
      "Current values:\n",
      "NotebookApp.iopub_msg_rate_limit=1000.0 (msgs/sec)\n",
      "NotebookApp.rate_limit_window=3.0 (secs)\n",
      "\n"
     ]
    },
    {
     "name": "stdout",
     "output_type": "stream",
     "text": [
      "  84600/3031194 [..............................] - ETA: 47:39 - loss: 1.9743e-07"
     ]
    }
   ],
   "source": [
    "from keras.callbacks import EarlyStopping\n",
    "early_stopping = EarlyStopping(monitor='val_loss', patience=2)\n",
    "history = model.fit(\n",
    "    X_train, y_train, \n",
    "    batch_size=100, #batch_size, \n",
    "    epochs=2,#epochs, \n",
    "    validation_split=validation_split, \n",
    "    callbacks=[early_stopping])\n",
    "\n",
    "predicted = model.predict(X_test)"
   ]
  },
  {
   "cell_type": "code",
   "execution_count": null,
   "metadata": {},
   "outputs": [],
   "source": [
    "import pandas as pd\n",
    "dataf = pd.DataFrame(predicted)\n",
    "dataf.columns = [\"predict\"]\n",
    "dataf[\"input\"] = y_test"
   ]
  },
  {
   "cell_type": "code",
   "execution_count": null,
   "metadata": {},
   "outputs": [],
   "source": [
    "fig(dataf.tail(100))"
   ]
  },
  {
   "cell_type": "code",
   "execution_count": 81,
   "metadata": {},
   "outputs": [
    {
     "data": {
      "image/png": "[encoded data removed]",
      "text/plain": [
       "<Figure size 1080x360 with 1 Axes>"
      ]
     },
     "metadata": {
      "needs_background": "light"
     },
     "output_type": "display_data"
    }
   ],
   "source": [
    "fig(dataf.tail(1000))"
   ]
  },
  {
   "cell_type": "code",
   "execution_count": 55,
   "metadata": {},
   "outputs": [
    {
     "name": "stdout",
     "output_type": "stream",
     "text": [
      "Train on 74491 samples, validate on 3921 samples\n",
      "Epoch 1/15\n",
      "74491/74491 [==============================] - 40s 533us/step - loss: 1695.7232 - val_loss: 1.1369\n",
      "Epoch 2/15\n",
      "74491/74491 [==============================] - 39s 518us/step - loss: 3.4374 - val_loss: 1.0791\n",
      "Epoch 3/15\n",
      "74491/74491 [==============================] - 40s 530us/step - loss: 0.5865 - val_loss: 0.0238\n",
      "Epoch 4/15\n",
      "74491/74491 [==============================] - 40s 531us/step - loss: 0.0845 - val_loss: 0.0162\n",
      "Epoch 5/15\n",
      "74491/74491 [==============================] - 39s 520us/step - loss: 0.0358 - val_loss: 0.0154\n",
      "Epoch 6/15\n",
      "74491/74491 [==============================] - 39s 526us/step - loss: 0.0137 - val_loss: 0.0080\n",
      "Epoch 7/15\n",
      "74491/74491 [==============================] - 38s 515us/step - loss: 0.0103 - val_loss: 0.0038\n",
      "Epoch 8/15\n",
      "74491/74491 [==============================] - 38s 517us/step - loss: 0.0071 - val_loss: 0.0069\n",
      "Epoch 9/15\n",
      "74491/74491 [==============================] - 39s 521us/step - loss: 0.0074 - val_loss: 0.0088\n"
     ]
    }
   ],
   "source": [
    "X_test, y_test, predicted,history = ok.odl(X_train,y_train,X_test,y_test)\n",
    "import pandas as pd\n",
    "dataf = pd.DataFrame(predicted)\n",
    "dataf.columns = [\"predict\"]\n",
    "dataf[\"input\"] = y_test"
   ]
  },
  {
   "cell_type": "code",
   "execution_count": 56,
   "metadata": {},
   "outputs": [
    {
     "data": {
      "image/png": "[encoded data removed]",
      "text/plain": [
       "<Figure size 1080x360 with 1 Axes>"
      ]
     },
     "metadata": {
      "needs_background": "light"
     },
     "output_type": "display_data"
    }
   ],
   "source": [
    "a = pd.DataFrame()\n",
    "a['loss'] = pd.Series(history.history['loss'])\n",
    "fig(a)"
   ]
  },
  {
   "cell_type": "code",
   "execution_count": 27,
   "metadata": {},
   "outputs": [],
   "source": [
    "df = df.dropna()\n",
    "df = df.tail(1000000)"
   ]
  },
  {
   "cell_type": "code",
   "execution_count": 15,
   "metadata": {},
   "outputs": [],
   "source": [
    "df = df.rolling(window=5).mean().dropna()"
   ]
  },
  {
   "cell_type": "code",
   "execution_count": 22,
   "metadata": {},
   "outputs": [
    {
     "name": "stdout",
     "output_type": "stream",
     "text": [
      "0    108.651\n",
      "1    108.751\n",
      "2    108.756\n",
      "3    108.761\n",
      "4    108.758\n",
      "Name: close, dtype: float64\n",
      "1    108.751\n",
      "2    108.756\n",
      "3    108.761\n",
      "4    108.758\n",
      "Name: close, dtype: float64\n",
      "[108.651 108.751 108.756 108.761 108.758]\n"
     ]
    }
   ],
   "source": [
    "hdf = df['close'].head(5)\n",
    "print(hdf)\n",
    "ldf = hdf\n",
    "print(ldf.drop(0))\n",
    "print(hdf.values)"
   ]
  },
  {
   "cell_type": "code",
   "execution_count": 4,
   "metadata": {},
   "outputs": [],
   "source": [
    "df = df_org"
   ]
  },
  {
   "cell_type": "code",
   "execution_count": 19,
   "metadata": {},
   "outputs": [],
   "source": [
    "g=df[FEATURE_VALUE].head(100)"
   ]
  },
  {
   "cell_type": "code",
   "execution_count": 20,
   "metadata": {},
   "outputs": [
    {
     "data": {
      "text/html": [
       "<div id=\"chart_idWBpiwUkx\"</div>\n",
       "    <script type=\"text/javascript\">new Highcharts.StockChart({\"chart\":{\"renderTo\":\"chart_idWBpiwUkx\"},\"legend\":{\"enabled\":true},\"series\":[{\"name\":\"close\",\"yAxis\":0,\"data\":[[0,108.651],[1,108.751],[2,108.756],[3,108.761],[4,108.758],[5,108.753],[6,108.744],[7,108.748],[8,108.746],[9,108.751],[10,108.755],[11,108.749],[12,108.742],[13,108.644],[14,108.691],[15,108.715],[16,108.718],[17,108.696],[18,108.721],[19,108.73],[20,108.708],[21,108.69],[22,108.68],[23,108.687],[24,108.686],[25,108.686],[26,108.63],[27,108.632],[28,108.614],[29,108.616],[30,108.611],[31,108.615],[32,108.648],[33,108.652],[34,108.654],[35,108.66],[36,108.662],[37,108.656],[38,108.65],[39,108.648],[40,108.654],[41,108.654],[42,108.66],[43,108.678],[44,108.671],[45,108.67],[46,108.674],[47,108.679],[48,108.686],[49,108.693],[50,108.696],[51,108.694],[52,108.693],[53,108.689],[54,108.694],[55,108.692],[56,108.688],[57,108.686],[58,108.686],[59,108.686],[60,108.684],[61,108.676],[62,108.682],[63,108.676],[64,108.681],[65,108.688],[66,108.714],[67,108.706],[68,108.714],[69,108.709],[70,108.706],[71,108.704],[72,108.704],[73,108.706],[74,108.706],[75,108.718],[76,108.726],[77,108.71],[78,108.715],[79,108.718],[80,108.71],[81,108.699],[82,108.706],[83,108.712],[84,108.71],[85,108.701],[86,108.706],[87,108.703],[88,108.706],[89,108.701],[90,108.703],[91,108.704],[92,108.706],[93,108.696],[94,108.694],[95,108.699],[96,108.694],[97,108.689],[98,108.696],[99,108.693]]}],\"xAxis\":{},\"yAxis\":[{}]});</script>"
      ],
      "text/plain": [
       "<IPython.core.display.HTML object>"
      ]
     },
     "metadata": {},
     "output_type": "display_data"
    }
   ],
   "source": [
    "display_charts(g,chart_type='stock')"
   ]
  },
  {
   "cell_type": "code",
   "execution_count": 40,
   "metadata": {},
   "outputs": [],
   "source": [
    "g=g.T.values[0].tolist()"
   ]
  },
  {
   "cell_type": "code",
   "execution_count": 41,
   "metadata": {},
   "outputs": [
    {
     "data": {
      "text/html": [
       "<iframe style=\"border:0;outline:none;overflow:hidden\" srcdoc=\"&lt;!DOCTYPE html&gt; &lt;html lang=&quot;en&quot;&gt; &lt;head&gt; &lt;meta charset=&quot;utf-8&quot; /&gt; &lt;link href=&quot;https://www.highcharts.com/highslide/highslide.css&quot; rel=&quot;stylesheet&quot; /&gt; &lt;script type=&quot;text/javascript&quot; src=&quot;https://ajax.googleapis.com/ajax/libs/jquery/1.9.1/jquery.min.js&quot;&gt;&lt;/script&gt; &lt;script type=&quot;text/javascript&quot; src=&quot;https://code.highcharts.com/6/highcharts.js&quot;&gt;&lt;/script&gt; &lt;script type=&quot;text/javascript&quot; src=&quot;https://code.highcharts.com/6/highcharts-more.js&quot;&gt;&lt;/script&gt; &lt;script type=&quot;text/javascript&quot; src=&quot;https://code.highcharts.com/6/modules/heatmap.js&quot;&gt;&lt;/script&gt; &lt;script type=&quot;text/javascript&quot; src=&quot;https://code.highcharts.com/6/modules/exporting.js&quot;&gt;&lt;/script&gt; &lt;/head&gt; &lt;body style=&quot;margin:0;padding:0&quot;&gt; &lt;div id=&quot;container&quot; style=&quot;&quot;&gt;Loading....&lt;/div&gt; &lt;script&gt; $(function(){ Highcharts.setOptions({&quot;global&quot;: {}, &quot;lang&quot;: {}}); var option = {&quot;chart&quot;: {&quot;renderTo&quot;: &quot;container&quot;}, &quot;colors&quot;: {}, &quot;credits&quot;: {&quot;enabled&quot;: false}, &quot;drilldown&quot;: {}, &quot;exporting&quot;: {}, &quot;labels&quot;: {}, &quot;legend&quot;: {}, &quot;loading&quot;: {}, &quot;navigation&quot;: {}, &quot;pane&quot;: {}, &quot;plotOptions&quot;: {}, &quot;series&quot;: {}, &quot;subtitle&quot;: {}, &quot;title&quot;: {&quot;text&quot;: &quot;A New Highchart&quot;}, &quot;tooltip&quot;: {}, &quot;xAxis&quot;: {}, &quot;yAxis&quot;: {}}; var chart = new Highcharts.Chart(option); var data = [{&quot;data&quot;: [108.65100000000001, 108.751, 108.756, 108.76100000000001, 108.758, 108.75299999999999, 108.744, 108.74799999999999, 108.74600000000001, 108.751, 108.755, 108.749, 108.742, 108.64399999999999, 108.691, 108.715, 108.71799999999999, 108.696, 108.721, 108.73, 108.708, 108.69, 108.68, 108.68700000000001, 108.686, 108.686, 108.63, 108.632, 108.61399999999999, 108.616, 108.611, 108.615, 108.648, 108.652, 108.654, 108.66, 108.662, 108.656, 108.65, 108.648, 108.654, 108.654, 108.66, 108.678, 108.671, 108.67, 108.67399999999999, 108.679, 108.686, 108.693, 108.696, 108.694, 108.693, 108.689, 108.694, 108.69200000000001, 108.68799999999999, 108.686, 108.686, 108.686, 108.684, 108.676, 108.682, 108.676, 108.681, 108.68799999999999, 108.714, 108.706, 108.714, 108.709, 108.706, 108.704, 108.704, 108.706, 108.706, 108.71799999999999, 108.726, 108.71, 108.715, 108.71799999999999, 108.71, 108.699, 108.706, 108.712, 108.71, 108.70100000000001, 108.706, 108.70299999999999, 108.706, 108.70100000000001, 108.70299999999999, 108.704, 108.706, 108.696, 108.694, 108.699, 108.694, 108.689, 108.696, 108.693], &quot;type&quot;: &quot;line&quot;, &quot;name&quot;: &quot;Series 1&quot;}]; var dataLen = data.length; for (var ix = 0; ix &lt; dataLen; ix++) { chart.addSeries(data[ix]); } }); &lt;/script&gt; &lt;/body&gt; &lt;/html&gt;\" height=520 width=820></iframe>"
      ],
      "text/plain": [
       "<highcharts.highcharts.highcharts.Highchart at 0x7f8ff2386520>"
      ]
     },
     "execution_count": 41,
     "metadata": {},
     "output_type": "execute_result"
    }
   ],
   "source": [
    "from highcharts import Highchart\n",
    "H = Highchart()\n",
    "H.add_data_set(g)\n",
    "H"
   ]
  },
  {
   "cell_type": "code",
   "execution_count": null,
   "metadata": {},
   "outputs": [],
   "source": []
  }
 ],
 "metadata": {
  "kernelspec": {
   "display_name": "Python 3",
   "language": "python",
   "name": "python3"
  },
  "language_info": {
   "codemirror_mode": {
    "name": "ipython",
    "version": 3
   },
   "file_extension": ".py",
   "mimetype": "text/x-python",
   "name": "python",
   "nbconvert_exporter": "python",
   "pygments_lexer": "ipython3",
   "version": "3.8.2"
  }
 },
 "nbformat": 4,
 "nbformat_minor": 4
}
